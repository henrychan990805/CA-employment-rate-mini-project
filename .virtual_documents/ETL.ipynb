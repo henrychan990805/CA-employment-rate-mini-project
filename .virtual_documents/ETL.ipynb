#Import dependencies
import pandas as pd
import matplotlib.pyplot as plt
import numpy as np
import hvplot.pandas


#Read in employment and unemployment datasets to pandas dataframe
employment_df = pd.read_csv('./Datasets/updated_employment_data.csv')
employment_df



california_unemployment_df=employment_df.loc[employment_df['Area Name']=='California']
california_unemployment_df


 new_df=(california_unemployment_df.groupby(california_unemployment_df['Year'])[['Regional Employment','Regional Unemployment']]).mean()
new_df=new_df.reset_index()
new_df



new_df.plot(x="Year", y=["Regional Employment", "Regional Unemployment"],kind="bar",stacked=True)
plt.title("Changes of employment and unemployment data in California from 2014 to 2024")

plt.gcf().axes[0].yaxis.get_major_formatter().set_scientific(False)




avg_df=(california_unemployment_df.groupby(california_unemployment_df['Year'])['Regional Unemployment Rate']).mean()
avg_df.plot.bar()
plt.ylabel("Average nemployment Rate")
plt.title("California unemploymentrate over years")

plt.show()


top10_emp_df=employment_df['Industry Title'].value_counts()
top10_emp_df.head(15)


title=['Total Nonfarm','Government','Federal Government','Local Government','State Government','Total Farm','Manufacturing','Goods Producing','Total Wage and Salary','Retail Trade']
top10_filter_emp_df=employment_df.loc[employment_df['Industry Title'].isin(title)]
top10_filter_emp_df


Top_10_jobs_df=((top10_filter_emp_df.groupby(top10_filter_emp_df['Industry Title'])['Regional Employment']).mean()).sort_values()


Top_10_jobs_df.plot.bar()
plt.ylabel("'Regional Employment")
plt.title("Top 10 industries based on employment rate in California")


top10_emp_df.tail(20)


job=['Social Advocacy Organizations ','Personal & Household Goods Repair','Drinking Places (Alcoholic Beverages)','Indian Tribes','Chemical & Allied Products Merchant whol','Lumber & Other Const. Mat Merch whole','Furniture & Home Furnish Merch whole','Soap, Cleaning Compound & Toiletry Mfg.','Logging','Support Activities for Mining']
filter_emp_df=employment_df.loc[employment_df['Industry Title'].isin(job)]
filter_emp_df





Bottom_10_jobs_df=((filter_emp_df.groupby(filter_emp_df['Industry Title'])['Regional Employment']).mean()).sort_values()


Bottom_10_jobs_df.plot.bar()
plt.ylabel("'Regional Employment")
plt.title("Bottom 10 industries based on employment rate in California")


area_emp_df=(employment_df.groupby(['Area Name'])['Regional Unemployment Rate']).sum().sort_values(ascending=False)
top_area_emp_df=area_emp_df.head(10)
top_area_emp_df


top_area_emp_df.plot.bar(rot=90)
plt.title("top 10 areas having high unemployment rate")
plt.ylabel("Total unemployment rate")


bottom_area_emp_df=area_emp_df.tail(10)
bottom_area_emp_df


bottom_area_emp_df.plot.bar(rot=90)
plt.title("Bottom 10 areas having less unemployment rate")
plt.ylabel("Total unemployment rate")


employment_df['Area Name'].unique()



   import csv

data = ['Alameda County', 'Alpine County', 'Amador County', 'Butte County',
        'Calaveras County', 'Colusa County', 'Contra Costa County',
        'Del Norte County', 'El Dorado County', 'Fresno County',
        'Glenn County', 'Humboldt County', 'Imperial County',
        'Inyo County', 'Kern County', 'Kings County', 'Lake County',
        'Lassen County', 'Los Angeles County', 'Madera County',
        'Marin County', 'Mariposa County', 'Mendocino County',
        'Merced County', 'Modoc County', 'Mono County', 'Monterey County',
        'Napa County', 'Nevada County', 'Orange County', 'Placer County',
        'Plumas County', 'Riverside County', 'Sacramento County',
        'San Benito County', 'San Bernardino County', 'San Diego County',
        'San Francisco County', 'San Joaquin County',
        'San Luis Obispo County', 'San Mateo County',
        'Santa Barbara County', 'Santa Clara County', 'Santa Cruz County',
        'Shasta County', 'Sierra County', 'Siskiyou County',
        'Solano County', 'Sonoma County', 'Stanislaus County',
        'Sutter County', 'Tehama County', 'Trinity County',
        'Tulare County', 'Tuolumne County', 'Ventura County',
        'Yolo County', 'Yuba County', 'Anaheim-Santa Ana-Irvine MD',
        'Bakersfield MSA', 'Chico MSA', 'El Centro MSA', 'Fresno MSA',
        'Hanford-Corcoran MSA', 'Los Angeles-Long Beach-Glendale MD',
        'Madera MSA', 'Merced MSA', 'Modesto MSA', 'Napa MSA',
        'Oakland-Hayward-Berkeley MD', 'Oxnard-Thousand Oaks-Ventura MSA',
        'Redding MSA', 'Riverside-San Bernardino-Ontario MSA',
        'Sacramento--Roseville--Arden-Arcade MSA', 'Salinas MSA',
        'San Diego-Carlsbad MSA',
        'San Francisco-Redwood City-South San Francisco MD',
        'San Jose-Sunnyvale-Santa Clara MSA',
        'San Luis Obispo-Paso Robles-Arroyo Grande MSA', 'San Rafael MD',
        'Santa Cruz-Watsonville MSA', 'Santa Maria-Santa Barbara MSA',
        'Santa Rosa MSA', 'Stockton-Lodi MSA', 'Vallejo-Fairfield MSA',
        'Visalia-Porterville MSA', 'Yuba City MSA', 'California']


csv_file = "./Datasets/places.csv"


with open(csv_file, mode='w', newline='') as file:
    writer = csv.writer(file)
    writer.writerow(["Place"])
    for place in data:
        writer.writerow([place])






employment_df.head()


area_df=(employment_df.groupby(employment_df['Area Name'])['Regional Unemployment']).mean()
area_df=pd.DataFrame(area_df)
area_df


coordinates_df = pd.read_csv('./Datasets/coordinates.csv')


coordinates_df=coordinates_df.rename(columns={'Place':'Area Name'})
coordinates_df


area_emp_df=pd.merge(area_df,coordinates_df,on='Area Name')
area_emp_df



map_plot = area_emp_df.hvplot.points(
    "Longitude",
    "Latitude",
    geo = True,
    tiles = "OSM",
    frame_width = 1000,
    frame_height = 1000,
    size = "Regional Unemployment",
    scale = 0.03,
    color = "Area Name",
    hover_cols=['Area Name	', 'Regional Unemployment'],
    title="Average unemployment by area"
)

# Display the map plot
map_plot



